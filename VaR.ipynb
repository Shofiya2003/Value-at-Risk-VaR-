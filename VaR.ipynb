{
 "cells": [
  {
   "cell_type": "code",
   "execution_count": 8,
   "id": "517a9ba5",
   "metadata": {},
   "outputs": [],
   "source": [
    "import pandas as pd\n",
    "import numpy\n",
    "import yfinance as yf"
   ]
  },
  {
   "cell_type": "code",
   "execution_count": 2,
   "id": "f30c72c6",
   "metadata": {},
   "outputs": [],
   "source": [
    "# Fetching historical data"
   ]
  },
  {
   "cell_type": "code",
   "execution_count": 3,
   "id": "3259fb19",
   "metadata": {},
   "outputs": [
    {
     "name": "stderr",
     "output_type": "stream",
     "text": [
      "[*********************100%%**********************]  3 of 3 completed\n"
     ]
    }
   ],
   "source": [
    "# 81/22 8/1/23\n",
    "tickers = ['JPM','MS','BAC']\n",
    "data = yf.download(tickers,start='2022-08-01',end='2023-08-01')['Adj Close']"
   ]
  },
  {
   "cell_type": "code",
   "execution_count": 4,
   "id": "ca7c296c",
   "metadata": {
    "scrolled": true
   },
   "outputs": [
    {
     "data": {
      "text/html": [
       "<div>\n",
       "<style scoped>\n",
       "    .dataframe tbody tr th:only-of-type {\n",
       "        vertical-align: middle;\n",
       "    }\n",
       "\n",
       "    .dataframe tbody tr th {\n",
       "        vertical-align: top;\n",
       "    }\n",
       "\n",
       "    .dataframe thead th {\n",
       "        text-align: right;\n",
       "    }\n",
       "</style>\n",
       "<table border=\"1\" class=\"dataframe\">\n",
       "  <thead>\n",
       "    <tr style=\"text-align: right;\">\n",
       "      <th>Ticker</th>\n",
       "      <th>BAC</th>\n",
       "      <th>JPM</th>\n",
       "      <th>MS</th>\n",
       "    </tr>\n",
       "    <tr>\n",
       "      <th>Date</th>\n",
       "      <th></th>\n",
       "      <th></th>\n",
       "      <th></th>\n",
       "    </tr>\n",
       "  </thead>\n",
       "  <tbody>\n",
       "    <tr>\n",
       "      <th>2022-08-01</th>\n",
       "      <td>31.869623</td>\n",
       "      <td>108.613457</td>\n",
       "      <td>78.671318</td>\n",
       "    </tr>\n",
       "    <tr>\n",
       "      <th>2022-08-02</th>\n",
       "      <td>31.236202</td>\n",
       "      <td>106.920692</td>\n",
       "      <td>78.147423</td>\n",
       "    </tr>\n",
       "    <tr>\n",
       "      <th>2022-08-03</th>\n",
       "      <td>31.803440</td>\n",
       "      <td>108.042870</td>\n",
       "      <td>79.569473</td>\n",
       "    </tr>\n",
       "    <tr>\n",
       "      <th>2022-08-04</th>\n",
       "      <td>31.576546</td>\n",
       "      <td>106.854118</td>\n",
       "      <td>79.859489</td>\n",
       "    </tr>\n",
       "    <tr>\n",
       "      <th>2022-08-05</th>\n",
       "      <td>32.105972</td>\n",
       "      <td>110.087517</td>\n",
       "      <td>80.579865</td>\n",
       "    </tr>\n",
       "    <tr>\n",
       "      <th>...</th>\n",
       "      <td>...</td>\n",
       "      <td>...</td>\n",
       "      <td>...</td>\n",
       "    </tr>\n",
       "    <tr>\n",
       "      <th>2023-07-25</th>\n",
       "      <td>31.220678</td>\n",
       "      <td>153.820053</td>\n",
       "      <td>90.690437</td>\n",
       "    </tr>\n",
       "    <tr>\n",
       "      <th>2023-07-26</th>\n",
       "      <td>31.473164</td>\n",
       "      <td>154.742050</td>\n",
       "      <td>89.845200</td>\n",
       "    </tr>\n",
       "    <tr>\n",
       "      <th>2023-07-27</th>\n",
       "      <td>31.026461</td>\n",
       "      <td>153.035355</td>\n",
       "      <td>89.086403</td>\n",
       "    </tr>\n",
       "    <tr>\n",
       "      <th>2023-07-28</th>\n",
       "      <td>30.977903</td>\n",
       "      <td>153.908310</td>\n",
       "      <td>88.766502</td>\n",
       "    </tr>\n",
       "    <tr>\n",
       "      <th>2023-07-31</th>\n",
       "      <td>31.075014</td>\n",
       "      <td>154.938232</td>\n",
       "      <td>88.756805</td>\n",
       "    </tr>\n",
       "  </tbody>\n",
       "</table>\n",
       "<p>251 rows × 3 columns</p>\n",
       "</div>"
      ],
      "text/plain": [
       "Ticker            BAC         JPM         MS\n",
       "Date                                        \n",
       "2022-08-01  31.869623  108.613457  78.671318\n",
       "2022-08-02  31.236202  106.920692  78.147423\n",
       "2022-08-03  31.803440  108.042870  79.569473\n",
       "2022-08-04  31.576546  106.854118  79.859489\n",
       "2022-08-05  32.105972  110.087517  80.579865\n",
       "...               ...         ...        ...\n",
       "2023-07-25  31.220678  153.820053  90.690437\n",
       "2023-07-26  31.473164  154.742050  89.845200\n",
       "2023-07-27  31.026461  153.035355  89.086403\n",
       "2023-07-28  30.977903  153.908310  88.766502\n",
       "2023-07-31  31.075014  154.938232  88.756805\n",
       "\n",
       "[251 rows x 3 columns]"
      ]
     },
     "execution_count": 4,
     "metadata": {},
     "output_type": "execute_result"
    }
   ],
   "source": [
    "data"
   ]
  },
  {
   "cell_type": "code",
   "execution_count": 11,
   "id": "6cfff796",
   "metadata": {},
   "outputs": [],
   "source": [
    "data_df = pd.DataFrame(data)\n",
    "data_df.to_csv('data.csv')"
   ]
  },
  {
   "cell_type": "code",
   "execution_count": 12,
   "id": "dfad8a3f",
   "metadata": {},
   "outputs": [],
   "source": [
    "# Calculating daily returns (price_today/price_yesterday -1)"
   ]
  },
  {
   "cell_type": "code",
   "execution_count": 54,
   "id": "d26c7e27",
   "metadata": {},
   "outputs": [],
   "source": [
    "returns = pd.DataFrame()\n",
    "column_headers = data_df.columns.values\n",
    "for stock in range(data_df.shape[1]):\n",
    "    ret = []\n",
    "    for i in range(data_df.shape[0]):\n",
    "        if i==0:\n",
    "            continue\n",
    "        else:\n",
    "            ret.append((data_df.iloc[i,stock]/data_df.iloc[i-1,stock])-1)\n",
    "    returns.insert(stock,column_headers[stock],ret)"
   ]
  },
  {
   "cell_type": "code",
   "execution_count": 57,
   "id": "d2484738",
   "metadata": {},
   "outputs": [
    {
     "data": {
      "text/html": [
       "<div>\n",
       "<style scoped>\n",
       "    .dataframe tbody tr th:only-of-type {\n",
       "        vertical-align: middle;\n",
       "    }\n",
       "\n",
       "    .dataframe tbody tr th {\n",
       "        vertical-align: top;\n",
       "    }\n",
       "\n",
       "    .dataframe thead th {\n",
       "        text-align: right;\n",
       "    }\n",
       "</style>\n",
       "<table border=\"1\" class=\"dataframe\">\n",
       "  <thead>\n",
       "    <tr style=\"text-align: right;\">\n",
       "      <th>Ticker</th>\n",
       "      <th>BAC</th>\n",
       "      <th>JPM</th>\n",
       "      <th>MS</th>\n",
       "    </tr>\n",
       "    <tr>\n",
       "      <th>Date</th>\n",
       "      <th></th>\n",
       "      <th></th>\n",
       "      <th></th>\n",
       "    </tr>\n",
       "  </thead>\n",
       "  <tbody>\n",
       "    <tr>\n",
       "      <th>2022-08-02</th>\n",
       "      <td>-1.987538</td>\n",
       "      <td>-1.558522</td>\n",
       "      <td>-0.665929</td>\n",
       "    </tr>\n",
       "    <tr>\n",
       "      <th>2022-08-03</th>\n",
       "      <td>1.815963</td>\n",
       "      <td>1.049542</td>\n",
       "      <td>1.819702</td>\n",
       "    </tr>\n",
       "    <tr>\n",
       "      <th>2022-08-04</th>\n",
       "      <td>-0.713427</td>\n",
       "      <td>-1.100259</td>\n",
       "      <td>0.364482</td>\n",
       "    </tr>\n",
       "    <tr>\n",
       "      <th>2022-08-05</th>\n",
       "      <td>1.676645</td>\n",
       "      <td>3.025993</td>\n",
       "      <td>0.902053</td>\n",
       "    </tr>\n",
       "    <tr>\n",
       "      <th>2022-08-08</th>\n",
       "      <td>-1.383984</td>\n",
       "      <td>-1.218056</td>\n",
       "      <td>-0.116098</td>\n",
       "    </tr>\n",
       "    <tr>\n",
       "      <th>...</th>\n",
       "      <td>...</td>\n",
       "      <td>...</td>\n",
       "      <td>...</td>\n",
       "    </tr>\n",
       "    <tr>\n",
       "      <th>2023-07-25</th>\n",
       "      <td>-1.531402</td>\n",
       "      <td>-0.746825</td>\n",
       "      <td>-0.264061</td>\n",
       "    </tr>\n",
       "    <tr>\n",
       "      <th>2023-07-26</th>\n",
       "      <td>0.808712</td>\n",
       "      <td>0.599400</td>\n",
       "      <td>-0.932003</td>\n",
       "    </tr>\n",
       "    <tr>\n",
       "      <th>2023-07-27</th>\n",
       "      <td>-1.419314</td>\n",
       "      <td>-1.102929</td>\n",
       "      <td>-0.844560</td>\n",
       "    </tr>\n",
       "    <tr>\n",
       "      <th>2023-07-28</th>\n",
       "      <td>-0.156503</td>\n",
       "      <td>0.570427</td>\n",
       "      <td>-0.359090</td>\n",
       "    </tr>\n",
       "    <tr>\n",
       "      <th>2023-07-31</th>\n",
       "      <td>0.313484</td>\n",
       "      <td>0.669179</td>\n",
       "      <td>-0.010924</td>\n",
       "    </tr>\n",
       "  </tbody>\n",
       "</table>\n",
       "<p>250 rows × 3 columns</p>\n",
       "</div>"
      ],
      "text/plain": [
       "Ticker           BAC       JPM        MS\n",
       "Date                                    \n",
       "2022-08-02 -1.987538 -1.558522 -0.665929\n",
       "2022-08-03  1.815963  1.049542  1.819702\n",
       "2022-08-04 -0.713427 -1.100259  0.364482\n",
       "2022-08-05  1.676645  3.025993  0.902053\n",
       "2022-08-08 -1.383984 -1.218056 -0.116098\n",
       "...              ...       ...       ...\n",
       "2023-07-25 -1.531402 -0.746825 -0.264061\n",
       "2023-07-26  0.808712  0.599400 -0.932003\n",
       "2023-07-27 -1.419314 -1.102929 -0.844560\n",
       "2023-07-28 -0.156503  0.570427 -0.359090\n",
       "2023-07-31  0.313484  0.669179 -0.010924\n",
       "\n",
       "[250 rows x 3 columns]"
      ]
     },
     "execution_count": 57,
     "metadata": {},
     "output_type": "execute_result"
    }
   ],
   "source": [
    "returns*100"
   ]
  },
  {
   "cell_type": "code",
   "execution_count": null,
   "id": "0f7d247a",
   "metadata": {},
   "outputs": [],
   "source": [
    "# Assuming weights"
   ]
  },
  {
   "cell_type": "code",
   "execution_count": 93,
   "id": "5a9af4ce",
   "metadata": {},
   "outputs": [],
   "source": [
    "total_portfolio = 1000000\n",
    "w = [0.03,0.03,0.04]\n",
    "weights = pd.DataFrame(list(zip([30],[30],[40])),columns = ['BAC','JPM','MS'])\n",
    "value = weights*total_portfolio"
   ]
  },
  {
   "cell_type": "code",
   "execution_count": null,
   "id": "282f45fc",
   "metadata": {},
   "outputs": [],
   "source": [
    "# Calculating portfolio mean"
   ]
  },
  {
   "cell_type": "code",
   "execution_count": null,
   "id": "8f75f0cf",
   "metadata": {},
   "outputs": [],
   "source": [
    "ans = 0\n",
    "for i in range(data_df.shape[1]):\n",
    "    ans+=()"
   ]
  },
  {
   "cell_type": "code",
   "execution_count": 222,
   "id": "3ecceb02",
   "metadata": {},
   "outputs": [
    {
     "data": {
      "text/plain": [
       "Date\n",
       "2022-08-02   -0.001330\n",
       "2022-08-03    0.001588\n",
       "2022-08-04   -0.000398\n",
       "2022-08-05    0.001772\n",
       "2022-08-08   -0.000827\n",
       "                ...   \n",
       "2023-07-25   -0.000789\n",
       "2023-07-26    0.000050\n",
       "2023-07-27   -0.001094\n",
       "2023-07-28   -0.000019\n",
       "2023-07-31    0.000290\n",
       "Length: 250, dtype: float64"
      ]
     },
     "execution_count": 222,
     "metadata": {},
     "output_type": "execute_result"
    }
   ],
   "source": [
    "mean_df = returns.dot(w)\n",
    "mean_df"
   ]
  },
  {
   "cell_type": "code",
   "execution_count": 223,
   "id": "78590aad",
   "metadata": {},
   "outputs": [],
   "source": [
    "portfolio_mean = mean_df.mean()"
   ]
  },
  {
   "cell_type": "code",
   "execution_count": null,
   "id": "88780aa2",
   "metadata": {},
   "outputs": [],
   "source": [
    "# Calculating the covariance Matrix"
   ]
  },
  {
   "cell_type": "code",
   "execution_count": 102,
   "id": "06c1bec0",
   "metadata": {},
   "outputs": [
    {
     "data": {
      "text/html": [
       "<div>\n",
       "<style scoped>\n",
       "    .dataframe tbody tr th:only-of-type {\n",
       "        vertical-align: middle;\n",
       "    }\n",
       "\n",
       "    .dataframe tbody tr th {\n",
       "        vertical-align: top;\n",
       "    }\n",
       "\n",
       "    .dataframe thead th {\n",
       "        text-align: right;\n",
       "    }\n",
       "</style>\n",
       "<table border=\"1\" class=\"dataframe\">\n",
       "  <thead>\n",
       "    <tr style=\"text-align: right;\">\n",
       "      <th>Ticker</th>\n",
       "      <th>BAC</th>\n",
       "      <th>JPM</th>\n",
       "      <th>MS</th>\n",
       "    </tr>\n",
       "    <tr>\n",
       "      <th>Ticker</th>\n",
       "      <th></th>\n",
       "      <th></th>\n",
       "      <th></th>\n",
       "    </tr>\n",
       "  </thead>\n",
       "  <tbody>\n",
       "    <tr>\n",
       "      <th>BAC</th>\n",
       "      <td>1.000000</td>\n",
       "      <td>0.819798</td>\n",
       "      <td>0.752721</td>\n",
       "    </tr>\n",
       "    <tr>\n",
       "      <th>JPM</th>\n",
       "      <td>0.819798</td>\n",
       "      <td>1.000000</td>\n",
       "      <td>0.664382</td>\n",
       "    </tr>\n",
       "    <tr>\n",
       "      <th>MS</th>\n",
       "      <td>0.752721</td>\n",
       "      <td>0.664382</td>\n",
       "      <td>1.000000</td>\n",
       "    </tr>\n",
       "  </tbody>\n",
       "</table>\n",
       "</div>"
      ],
      "text/plain": [
       "Ticker       BAC       JPM        MS\n",
       "Ticker                              \n",
       "BAC     1.000000  0.819798  0.752721\n",
       "JPM     0.819798  1.000000  0.664382\n",
       "MS      0.752721  0.664382  1.000000"
      ]
     },
     "execution_count": 102,
     "metadata": {},
     "output_type": "execute_result"
    }
   ],
   "source": [
    "# correlation between columns\n",
    "corr_df = returns.corr()\n",
    "corr_df"
   ]
  },
  {
   "cell_type": "code",
   "execution_count": 192,
   "id": "0eccf615",
   "metadata": {},
   "outputs": [],
   "source": [
    "# cov(a,b) = corr(a,b) * sd(a) * sd(b)\n",
    "# standard deviation of returns\n",
    "sd_df = returns.std()"
   ]
  },
  {
   "cell_type": "code",
   "execution_count": 261,
   "id": "a7fd46ad",
   "metadata": {},
   "outputs": [
    {
     "data": {
      "text/plain": [
       "Ticker\n",
       "BAC    0.018240\n",
       "JPM    0.016283\n",
       "MS     0.017193\n",
       "dtype: float64"
      ]
     },
     "execution_count": 261,
     "metadata": {},
     "output_type": "execute_result"
    }
   ],
   "source": [
    "sd_df"
   ]
  },
  {
   "cell_type": "code",
   "execution_count": 268,
   "id": "2753194a",
   "metadata": {},
   "outputs": [],
   "source": [
    "cov_matrix = pd.DataFrame()\n",
    "for i in range(data_df.shape[1]):\n",
    "    ret = []\n",
    "    for j in range(data_df.shape[1]):\n",
    "        ret.append(corr_df.iloc[j,i]*sd_df[i]*sd_df[j])\n",
    "    cov_matrix.insert(i,i,ret)"
   ]
  },
  {
   "cell_type": "code",
   "execution_count": 269,
   "id": "1a75408e",
   "metadata": {},
   "outputs": [
    {
     "data": {
      "text/html": [
       "<div>\n",
       "<style scoped>\n",
       "    .dataframe tbody tr th:only-of-type {\n",
       "        vertical-align: middle;\n",
       "    }\n",
       "\n",
       "    .dataframe tbody tr th {\n",
       "        vertical-align: top;\n",
       "    }\n",
       "\n",
       "    .dataframe thead th {\n",
       "        text-align: right;\n",
       "    }\n",
       "</style>\n",
       "<table border=\"1\" class=\"dataframe\">\n",
       "  <thead>\n",
       "    <tr style=\"text-align: right;\">\n",
       "      <th></th>\n",
       "      <th>0</th>\n",
       "      <th>1</th>\n",
       "      <th>2</th>\n",
       "    </tr>\n",
       "  </thead>\n",
       "  <tbody>\n",
       "    <tr>\n",
       "      <th>0</th>\n",
       "      <td>0.000333</td>\n",
       "      <td>0.000243</td>\n",
       "      <td>0.000236</td>\n",
       "    </tr>\n",
       "    <tr>\n",
       "      <th>1</th>\n",
       "      <td>0.000243</td>\n",
       "      <td>0.000265</td>\n",
       "      <td>0.000186</td>\n",
       "    </tr>\n",
       "    <tr>\n",
       "      <th>2</th>\n",
       "      <td>0.000236</td>\n",
       "      <td>0.000186</td>\n",
       "      <td>0.000296</td>\n",
       "    </tr>\n",
       "  </tbody>\n",
       "</table>\n",
       "</div>"
      ],
      "text/plain": [
       "          0         1         2\n",
       "0  0.000333  0.000243  0.000236\n",
       "1  0.000243  0.000265  0.000186\n",
       "2  0.000236  0.000186  0.000296"
      ]
     },
     "execution_count": 269,
     "metadata": {},
     "output_type": "execute_result"
    }
   ],
   "source": [
    "cov_matrix = cov_matrix\n",
    "cov_matrix"
   ]
  },
  {
   "cell_type": "code",
   "execution_count": 160,
   "id": "a9a6f4c5",
   "metadata": {},
   "outputs": [],
   "source": [
    "# calculating portfolio SD"
   ]
  },
  {
   "cell_type": "code",
   "execution_count": 293,
   "id": "a0bf5fda",
   "metadata": {},
   "outputs": [],
   "source": [
    "portfolio_variance = (weights).mul(cov_matrix).mul(weights.transpose())\n",
    "portfolio_variance = portfolio_variance[0][0]"
   ]
  },
  {
   "cell_type": "code",
   "execution_count": 294,
   "id": "95daf972",
   "metadata": {},
   "outputs": [],
   "source": [
    "import math\n",
    "portfolio_sd = math.sqrt(portfolio_variance)"
   ]
  },
  {
   "cell_type": "code",
   "execution_count": 295,
   "id": "502c57ab",
   "metadata": {},
   "outputs": [
    {
     "data": {
      "text/plain": [
       "(0.5471945168609231, 7.370827764365035e-05)"
      ]
     },
     "execution_count": 295,
     "metadata": {},
     "output_type": "execute_result"
    }
   ],
   "source": [
    "portfolio_sd,portfolio_mean"
   ]
  },
  {
   "cell_type": "code",
   "execution_count": 296,
   "id": "1f81672e",
   "metadata": {},
   "outputs": [],
   "source": [
    "from scipy.stats import norm\n",
    "def parametric_var(mean, std_dev,confidence_level):\n",
    "    z_score = norm.ppf(1 - confidence_level)\n",
    "    return mean + z_score * std_dev"
   ]
  },
  {
   "cell_type": "code",
   "execution_count": 297,
   "id": "2f9801b3",
   "metadata": {},
   "outputs": [
    {
     "name": "stdout",
     "output_type": "stream",
     "text": [
      "1 Day VaR at confidence score = 0.90:  -19991.467339719333\n",
      "1 Day VaR at confidence score = 0.95 : -25658.979497666533\n",
      "1 Day VaR at confidence score = 0.99 -36290.28975226068\n"
     ]
    }
   ],
   "source": [
    "print(\"1 Day VaR at confidence score = 0.90: \",parametric_var(portfolio_mean/100, 1.56/100,0.90)*total_portfolio)\n",
    "print(\"1 Day VaR at confidence score = 0.95 :\",parametric_var(portfolio_mean/100, 1.56/100,0.95)*total_portfolio)\n",
    "print(\"1 Day VaR at confidence score = 0.99\",parametric_var(portfolio_mean/100, 1.56/100,0.99)*total_portfolio)"
   ]
  }
 ],
 "metadata": {
  "kernelspec": {
   "display_name": "Python 3 (ipykernel)",
   "language": "python",
   "name": "python3"
  },
  "language_info": {
   "codemirror_mode": {
    "name": "ipython",
    "version": 3
   },
   "file_extension": ".py",
   "mimetype": "text/x-python",
   "name": "python",
   "nbconvert_exporter": "python",
   "pygments_lexer": "ipython3",
   "version": "3.10.12"
  }
 },
 "nbformat": 4,
 "nbformat_minor": 5
}
