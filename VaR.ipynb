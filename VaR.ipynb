{
 "cells": [
  {
   "cell_type": "code",
   "execution_count": 8,
   "id": "e6483034",
   "metadata": {},
   "outputs": [],
   "source": [
    "import pandas as pd\n",
    "import numpy\n",
    "import yfinance as yf"
   ]
  },
  {
   "cell_type": "code",
   "execution_count": 2,
   "id": "1951b5de",
   "metadata": {},
   "outputs": [],
   "source": [
    "# Fetching historical data"
   ]
  },
  {
   "cell_type": "code",
   "execution_count": 3,
   "id": "40d246e6",
   "metadata": {},
   "outputs": [
    {
     "name": "stderr",
     "output_type": "stream",
     "text": [
      "[*********************100%%**********************]  3 of 3 completed\n"
     ]
    }
   ],
   "source": [
    "# 81/22 8/1/23\n",
    "tickers = ['JPM','MS','BAC']\n",
    "data = yf.download(tickers,start='2022-08-01',end='2023-08-01')['Adj Close']"
   ]
  },
  {
   "cell_type": "code",
   "execution_count": 4,
   "id": "90afe710",
   "metadata": {
    "scrolled": true
   },
   "outputs": [
    {
     "data": {
      "text/html": [
       "<div>\n",
       "<style scoped>\n",
       "    .dataframe tbody tr th:only-of-type {\n",
       "        vertical-align: middle;\n",
       "    }\n",
       "\n",
       "    .dataframe tbody tr th {\n",
       "        vertical-align: top;\n",
       "    }\n",
       "\n",
       "    .dataframe thead th {\n",
       "        text-align: right;\n",
       "    }\n",
       "</style>\n",
       "<table border=\"1\" class=\"dataframe\">\n",
       "  <thead>\n",
       "    <tr style=\"text-align: right;\">\n",
       "      <th>Ticker</th>\n",
       "      <th>BAC</th>\n",
       "      <th>JPM</th>\n",
       "      <th>MS</th>\n",
       "    </tr>\n",
       "    <tr>\n",
       "      <th>Date</th>\n",
       "      <th></th>\n",
       "      <th></th>\n",
       "      <th></th>\n",
       "    </tr>\n",
       "  </thead>\n",
       "  <tbody>\n",
       "    <tr>\n",
       "      <th>2022-08-01</th>\n",
       "      <td>31.869623</td>\n",
       "      <td>108.613457</td>\n",
       "      <td>78.671318</td>\n",
       "    </tr>\n",
       "    <tr>\n",
       "      <th>2022-08-02</th>\n",
       "      <td>31.236202</td>\n",
       "      <td>106.920692</td>\n",
       "      <td>78.147423</td>\n",
       "    </tr>\n",
       "    <tr>\n",
       "      <th>2022-08-03</th>\n",
       "      <td>31.803440</td>\n",
       "      <td>108.042870</td>\n",
       "      <td>79.569473</td>\n",
       "    </tr>\n",
       "    <tr>\n",
       "      <th>2022-08-04</th>\n",
       "      <td>31.576546</td>\n",
       "      <td>106.854118</td>\n",
       "      <td>79.859489</td>\n",
       "    </tr>\n",
       "    <tr>\n",
       "      <th>2022-08-05</th>\n",
       "      <td>32.105972</td>\n",
       "      <td>110.087517</td>\n",
       "      <td>80.579865</td>\n",
       "    </tr>\n",
       "    <tr>\n",
       "      <th>...</th>\n",
       "      <td>...</td>\n",
       "      <td>...</td>\n",
       "      <td>...</td>\n",
       "    </tr>\n",
       "    <tr>\n",
       "      <th>2023-07-25</th>\n",
       "      <td>31.220678</td>\n",
       "      <td>153.820053</td>\n",
       "      <td>90.690437</td>\n",
       "    </tr>\n",
       "    <tr>\n",
       "      <th>2023-07-26</th>\n",
       "      <td>31.473164</td>\n",
       "      <td>154.742050</td>\n",
       "      <td>89.845200</td>\n",
       "    </tr>\n",
       "    <tr>\n",
       "      <th>2023-07-27</th>\n",
       "      <td>31.026461</td>\n",
       "      <td>153.035355</td>\n",
       "      <td>89.086403</td>\n",
       "    </tr>\n",
       "    <tr>\n",
       "      <th>2023-07-28</th>\n",
       "      <td>30.977903</td>\n",
       "      <td>153.908310</td>\n",
       "      <td>88.766502</td>\n",
       "    </tr>\n",
       "    <tr>\n",
       "      <th>2023-07-31</th>\n",
       "      <td>31.075014</td>\n",
       "      <td>154.938232</td>\n",
       "      <td>88.756805</td>\n",
       "    </tr>\n",
       "  </tbody>\n",
       "</table>\n",
       "<p>251 rows × 3 columns</p>\n",
       "</div>"
      ],
      "text/plain": [
       "Ticker            BAC         JPM         MS\n",
       "Date                                        \n",
       "2022-08-01  31.869623  108.613457  78.671318\n",
       "2022-08-02  31.236202  106.920692  78.147423\n",
       "2022-08-03  31.803440  108.042870  79.569473\n",
       "2022-08-04  31.576546  106.854118  79.859489\n",
       "2022-08-05  32.105972  110.087517  80.579865\n",
       "...               ...         ...        ...\n",
       "2023-07-25  31.220678  153.820053  90.690437\n",
       "2023-07-26  31.473164  154.742050  89.845200\n",
       "2023-07-27  31.026461  153.035355  89.086403\n",
       "2023-07-28  30.977903  153.908310  88.766502\n",
       "2023-07-31  31.075014  154.938232  88.756805\n",
       "\n",
       "[251 rows x 3 columns]"
      ]
     },
     "execution_count": 4,
     "metadata": {},
     "output_type": "execute_result"
    }
   ],
   "source": [
    "data"
   ]
  },
  {
   "cell_type": "code",
   "execution_count": 11,
   "id": "3d610a15",
   "metadata": {},
   "outputs": [],
   "source": [
    "data_df = pd.DataFrame(data)\n",
    "data_df.to_csv('data.csv')"
   ]
  },
  {
   "cell_type": "code",
   "execution_count": 12,
   "id": "10e4fe8f",
   "metadata": {},
   "outputs": [],
   "source": [
    "# Calculating daily returns (price_today/price_yesterday -1)"
   ]
  },
  {
   "cell_type": "code",
   "execution_count": 54,
   "id": "2b15e0e1",
   "metadata": {},
   "outputs": [],
   "source": [
    "returns = pd.DataFrame()\n",
    "column_headers = data_df.columns.values\n",
    "for stock in range(data_df.shape[1]):\n",
    "    ret = []\n",
    "    for i in range(data_df.shape[0]):\n",
    "        if i==0:\n",
    "            continue\n",
    "        else:\n",
    "            ret.append((data_df.iloc[i,stock]/data_df.iloc[i-1,stock])-1)\n",
    "    returns.insert(stock,column_headers[stock],ret)"
   ]
  },
  {
   "cell_type": "code",
   "execution_count": 57,
   "id": "d54ae273",
   "metadata": {},
   "outputs": [
    {
     "data": {
      "text/html": [
       "<div>\n",
       "<style scoped>\n",
       "    .dataframe tbody tr th:only-of-type {\n",
       "        vertical-align: middle;\n",
       "    }\n",
       "\n",
       "    .dataframe tbody tr th {\n",
       "        vertical-align: top;\n",
       "    }\n",
       "\n",
       "    .dataframe thead th {\n",
       "        text-align: right;\n",
       "    }\n",
       "</style>\n",
       "<table border=\"1\" class=\"dataframe\">\n",
       "  <thead>\n",
       "    <tr style=\"text-align: right;\">\n",
       "      <th>Ticker</th>\n",
       "      <th>BAC</th>\n",
       "      <th>JPM</th>\n",
       "      <th>MS</th>\n",
       "    </tr>\n",
       "    <tr>\n",
       "      <th>Date</th>\n",
       "      <th></th>\n",
       "      <th></th>\n",
       "      <th></th>\n",
       "    </tr>\n",
       "  </thead>\n",
       "  <tbody>\n",
       "    <tr>\n",
       "      <th>2022-08-02</th>\n",
       "      <td>-1.987538</td>\n",
       "      <td>-1.558522</td>\n",
       "      <td>-0.665929</td>\n",
       "    </tr>\n",
       "    <tr>\n",
       "      <th>2022-08-03</th>\n",
       "      <td>1.815963</td>\n",
       "      <td>1.049542</td>\n",
       "      <td>1.819702</td>\n",
       "    </tr>\n",
       "    <tr>\n",
       "      <th>2022-08-04</th>\n",
       "      <td>-0.713427</td>\n",
       "      <td>-1.100259</td>\n",
       "      <td>0.364482</td>\n",
       "    </tr>\n",
       "    <tr>\n",
       "      <th>2022-08-05</th>\n",
       "      <td>1.676645</td>\n",
       "      <td>3.025993</td>\n",
       "      <td>0.902053</td>\n",
       "    </tr>\n",
       "    <tr>\n",
       "      <th>2022-08-08</th>\n",
       "      <td>-1.383984</td>\n",
       "      <td>-1.218056</td>\n",
       "      <td>-0.116098</td>\n",
       "    </tr>\n",
       "    <tr>\n",
       "      <th>...</th>\n",
       "      <td>...</td>\n",
       "      <td>...</td>\n",
       "      <td>...</td>\n",
       "    </tr>\n",
       "    <tr>\n",
       "      <th>2023-07-25</th>\n",
       "      <td>-1.531402</td>\n",
       "      <td>-0.746825</td>\n",
       "      <td>-0.264061</td>\n",
       "    </tr>\n",
       "    <tr>\n",
       "      <th>2023-07-26</th>\n",
       "      <td>0.808712</td>\n",
       "      <td>0.599400</td>\n",
       "      <td>-0.932003</td>\n",
       "    </tr>\n",
       "    <tr>\n",
       "      <th>2023-07-27</th>\n",
       "      <td>-1.419314</td>\n",
       "      <td>-1.102929</td>\n",
       "      <td>-0.844560</td>\n",
       "    </tr>\n",
       "    <tr>\n",
       "      <th>2023-07-28</th>\n",
       "      <td>-0.156503</td>\n",
       "      <td>0.570427</td>\n",
       "      <td>-0.359090</td>\n",
       "    </tr>\n",
       "    <tr>\n",
       "      <th>2023-07-31</th>\n",
       "      <td>0.313484</td>\n",
       "      <td>0.669179</td>\n",
       "      <td>-0.010924</td>\n",
       "    </tr>\n",
       "  </tbody>\n",
       "</table>\n",
       "<p>250 rows × 3 columns</p>\n",
       "</div>"
      ],
      "text/plain": [
       "Ticker           BAC       JPM        MS\n",
       "Date                                    \n",
       "2022-08-02 -1.987538 -1.558522 -0.665929\n",
       "2022-08-03  1.815963  1.049542  1.819702\n",
       "2022-08-04 -0.713427 -1.100259  0.364482\n",
       "2022-08-05  1.676645  3.025993  0.902053\n",
       "2022-08-08 -1.383984 -1.218056 -0.116098\n",
       "...              ...       ...       ...\n",
       "2023-07-25 -1.531402 -0.746825 -0.264061\n",
       "2023-07-26  0.808712  0.599400 -0.932003\n",
       "2023-07-27 -1.419314 -1.102929 -0.844560\n",
       "2023-07-28 -0.156503  0.570427 -0.359090\n",
       "2023-07-31  0.313484  0.669179 -0.010924\n",
       "\n",
       "[250 rows x 3 columns]"
      ]
     },
     "execution_count": 57,
     "metadata": {},
     "output_type": "execute_result"
    }
   ],
   "source": [
    "returns*100"
   ]
  },
  {
   "cell_type": "code",
   "execution_count": null,
   "id": "70ddd9e5",
   "metadata": {},
   "outputs": [],
   "source": [
    "# Assuming weights"
   ]
  },
  {
   "cell_type": "code",
   "execution_count": null,
   "id": "a328d72e",
   "metadata": {},
   "outputs": [],
   "source": [
    "total_porfolio = 1000000"
   ]
  }
 ],
 "metadata": {
  "kernelspec": {
   "display_name": "Python 3 (ipykernel)",
   "language": "python",
   "name": "python3"
  },
  "language_info": {
   "codemirror_mode": {
    "name": "ipython",
    "version": 3
   },
   "file_extension": ".py",
   "mimetype": "text/x-python",
   "name": "python",
   "nbconvert_exporter": "python",
   "pygments_lexer": "ipython3",
   "version": "3.10.12"
  }
 },
 "nbformat": 4,
 "nbformat_minor": 5
}
